{
 "cells": [
  {
   "cell_type": "code",
   "execution_count": 1,
   "id": "initial_id",
   "metadata": {
    "collapsed": true,
    "ExecuteTime": {
     "end_time": "2023-12-16T01:39:54.691817Z",
     "start_time": "2023-12-16T01:39:51.494181Z"
    }
   },
   "outputs": [],
   "source": [
    "import pandas as pd \n",
    "import numpy as np\n",
    "from sklearn.preprocessing import MinMaxScaler\n",
    "# Neural network libraries\n",
    "from tensorflow.keras.models import Sequential\n",
    "from tensorflow.keras.layers import Dense, LSTM\n",
    "from tensorflow.keras.optimizers.legacy import Adam\n",
    "# metrics \n",
    "from sklearn.metrics import mean_squared_error, mean_absolute_percentage_error, r2_score\n",
    "# plots \n",
    "from matplotlib import pyplot as plt "
   ]
  },
  {
   "cell_type": "code",
   "execution_count": 2,
   "outputs": [
    {
     "data": {
      "text/plain": "        Date     Value\n0 2015-01-31  0.000000\n1 2015-02-28  0.027298\n2 2015-03-31  0.039681\n3 2015-04-30  0.049087\n4 2015-05-31  0.066606",
      "text/html": "<div>\n<style scoped>\n    .dataframe tbody tr th:only-of-type {\n        vertical-align: middle;\n    }\n\n    .dataframe tbody tr th {\n        vertical-align: top;\n    }\n\n    .dataframe thead th {\n        text-align: right;\n    }\n</style>\n<table border=\"1\" class=\"dataframe\">\n  <thead>\n    <tr style=\"text-align: right;\">\n      <th></th>\n      <th>Date</th>\n      <th>Value</th>\n    </tr>\n  </thead>\n  <tbody>\n    <tr>\n      <th>0</th>\n      <td>2015-01-31</td>\n      <td>0.000000</td>\n    </tr>\n    <tr>\n      <th>1</th>\n      <td>2015-02-28</td>\n      <td>0.027298</td>\n    </tr>\n    <tr>\n      <th>2</th>\n      <td>2015-03-31</td>\n      <td>0.039681</td>\n    </tr>\n    <tr>\n      <th>3</th>\n      <td>2015-04-30</td>\n      <td>0.049087</td>\n    </tr>\n    <tr>\n      <th>4</th>\n      <td>2015-05-31</td>\n      <td>0.066606</td>\n    </tr>\n  </tbody>\n</table>\n</div>"
     },
     "execution_count": 2,
     "metadata": {},
     "output_type": "execute_result"
    }
   ],
   "source": [
    "link = \"./dataset/hoboken.csv\"\n",
    "hoboken = pd.read_csv(link)\n",
    "hoboscaler = MinMaxScaler()\n",
    "hoboken.Date = pd.to_datetime(hoboken.Date)\n",
    "hoboken[['Value']] = hoboscaler.fit_transform(hoboken[['Value']])\n",
    "hoboken.head()"
   ],
   "metadata": {
    "collapsed": false,
    "ExecuteTime": {
     "end_time": "2023-12-16T01:39:54.701091Z",
     "start_time": "2023-12-16T01:39:54.692821Z"
    }
   },
   "id": "a7516e85f52213ca"
  },
  {
   "cell_type": "code",
   "execution_count": 3,
   "outputs": [],
   "source": [
    "def create_splits(data, lookback=1):\n",
    "    datax, datay = [],[]\n",
    "    for i in range(len(data) - lookback -1):\n",
    "        a = data.iloc[i:(i + lookback), 1]\n",
    "        datax.append(a)\n",
    "        datay.append(data.iloc[i + lookback, 1])\n",
    "    return np.array(datax), np.array(datay)\n",
    "\n"
   ],
   "metadata": {
    "collapsed": false,
    "ExecuteTime": {
     "end_time": "2023-12-16T01:39:54.702992Z",
     "start_time": "2023-12-16T01:39:54.701213Z"
    }
   },
   "id": "92bf4e513230ea5c"
  },
  {
   "cell_type": "code",
   "execution_count": 4,
   "outputs": [
    {
     "data": {
      "text/plain": "         Date     Value\n0  2015-01-31  0.000000\n1  2015-02-28  0.027298\n2  2015-03-31  0.039681\n3  2015-04-30  0.049087\n4  2015-05-31  0.066606\n..        ...       ...\n88 2022-05-31  0.647926\n89 2022-06-30  0.697129\n90 2022-07-31  0.746749\n91 2022-08-31  0.765914\n92 2022-09-30  0.781880\n\n[93 rows x 2 columns]",
      "text/html": "<div>\n<style scoped>\n    .dataframe tbody tr th:only-of-type {\n        vertical-align: middle;\n    }\n\n    .dataframe tbody tr th {\n        vertical-align: top;\n    }\n\n    .dataframe thead th {\n        text-align: right;\n    }\n</style>\n<table border=\"1\" class=\"dataframe\">\n  <thead>\n    <tr style=\"text-align: right;\">\n      <th></th>\n      <th>Date</th>\n      <th>Value</th>\n    </tr>\n  </thead>\n  <tbody>\n    <tr>\n      <th>0</th>\n      <td>2015-01-31</td>\n      <td>0.000000</td>\n    </tr>\n    <tr>\n      <th>1</th>\n      <td>2015-02-28</td>\n      <td>0.027298</td>\n    </tr>\n    <tr>\n      <th>2</th>\n      <td>2015-03-31</td>\n      <td>0.039681</td>\n    </tr>\n    <tr>\n      <th>3</th>\n      <td>2015-04-30</td>\n      <td>0.049087</td>\n    </tr>\n    <tr>\n      <th>4</th>\n      <td>2015-05-31</td>\n      <td>0.066606</td>\n    </tr>\n    <tr>\n      <th>...</th>\n      <td>...</td>\n      <td>...</td>\n    </tr>\n    <tr>\n      <th>88</th>\n      <td>2022-05-31</td>\n      <td>0.647926</td>\n    </tr>\n    <tr>\n      <th>89</th>\n      <td>2022-06-30</td>\n      <td>0.697129</td>\n    </tr>\n    <tr>\n      <th>90</th>\n      <td>2022-07-31</td>\n      <td>0.746749</td>\n    </tr>\n    <tr>\n      <th>91</th>\n      <td>2022-08-31</td>\n      <td>0.765914</td>\n    </tr>\n    <tr>\n      <th>92</th>\n      <td>2022-09-30</td>\n      <td>0.781880</td>\n    </tr>\n  </tbody>\n</table>\n<p>93 rows × 2 columns</p>\n</div>"
     },
     "execution_count": 4,
     "metadata": {},
     "output_type": "execute_result"
    }
   ],
   "source": [
    "trainsize = 93\n",
    "lookback = 3\n",
    "train, test = hoboken[:trainsize], hoboken[trainsize - lookback:]\n",
    "train"
   ],
   "metadata": {
    "collapsed": false,
    "ExecuteTime": {
     "end_time": "2023-12-16T01:39:54.708205Z",
     "start_time": "2023-12-16T01:39:54.704667Z"
    }
   },
   "id": "21e23e9ba10a55af"
  },
  {
   "cell_type": "code",
   "execution_count": 5,
   "outputs": [],
   "source": [
    "trainx, trainy = create_splits(train, lookback=lookback)\n",
    "testx, testy = create_splits(test, lookback=lookback)"
   ],
   "metadata": {
    "collapsed": false,
    "ExecuteTime": {
     "end_time": "2023-12-16T01:39:54.718678Z",
     "start_time": "2023-12-16T01:39:54.710862Z"
    }
   },
   "id": "7d67fb844f928e25"
  },
  {
   "cell_type": "code",
   "execution_count": 6,
   "outputs": [],
   "source": [
    "trainx = np.reshape(trainx, (trainx.shape[0], 1, trainx.shape[1]))\n",
    "testx = np.reshape(testx, (testx.shape[0], 1, testx.shape[1]))"
   ],
   "metadata": {
    "collapsed": false,
    "ExecuteTime": {
     "end_time": "2023-12-16T01:39:54.718754Z",
     "start_time": "2023-12-16T01:39:54.712996Z"
    }
   },
   "id": "1c7545abba4ce9b6"
  },
  {
   "cell_type": "code",
   "execution_count": 7,
   "outputs": [
    {
     "name": "stderr",
     "output_type": "stream",
     "text": [
      "2023-12-15 20:39:54.717022: I metal_plugin/src/device/metal_device.cc:1154] Metal device set to: Apple M2 Pro\n",
      "2023-12-15 20:39:54.717043: I metal_plugin/src/device/metal_device.cc:296] systemMemory: 16.00 GB\n",
      "2023-12-15 20:39:54.717047: I metal_plugin/src/device/metal_device.cc:313] maxCacheSize: 5.33 GB\n",
      "2023-12-15 20:39:54.717078: I tensorflow/core/common_runtime/pluggable_device/pluggable_device_factory.cc:306] Could not identify NUMA node of platform GPU ID 0, defaulting to 0. Your kernel may not have been built with NUMA support.\n",
      "2023-12-15 20:39:54.717093: I tensorflow/core/common_runtime/pluggable_device/pluggable_device_factory.cc:272] Created TensorFlow device (/job:localhost/replica:0/task:0/device:GPU:0 with 0 MB memory) -> physical PluggableDevice (device: 0, name: METAL, pci bus id: <undefined>)\n"
     ]
    },
    {
     "name": "stdout",
     "output_type": "stream",
     "text": [
      "Model: \"sequential\"\n",
      "_________________________________________________________________\n",
      " Layer (type)                Output Shape              Param #   \n",
      "=================================================================\n",
      " lstm (LSTM)                 (None, 6)                 240       \n",
      "                                                                 \n",
      " dense (Dense)               (None, 1)                 7         \n",
      "                                                                 \n",
      "=================================================================\n",
      "Total params: 247 (988.00 Byte)\n",
      "Trainable params: 247 (988.00 Byte)\n",
      "Non-trainable params: 0 (0.00 Byte)\n",
      "_________________________________________________________________\n"
     ]
    }
   ],
   "source": [
    "hobomodel = Sequential()\n",
    "hobomodel.add(LSTM(6, input_shape = (1, lookback)))\n",
    "hobomodel.add(Dense(1))\n",
    "opt = Adam(learning_rate = 0.01)\n",
    "hobomodel.compile(loss='mean_squared_error', optimizer=opt)\n",
    "hobomodel.summary()"
   ],
   "metadata": {
    "collapsed": false,
    "ExecuteTime": {
     "end_time": "2023-12-16T01:39:55.508733Z",
     "start_time": "2023-12-16T01:39:54.715005Z"
    }
   },
   "id": "eb46942554b3c6df"
  },
  {
   "cell_type": "code",
   "execution_count": 8,
   "outputs": [
    {
     "name": "stdout",
     "output_type": "stream",
     "text": [
      "Epoch 1/120\n"
     ]
    },
    {
     "name": "stderr",
     "output_type": "stream",
     "text": [
      "2023-12-15 20:39:56.086369: I tensorflow/core/grappler/optimizers/custom_graph_optimizer_registry.cc:117] Plugin optimizer for device_type GPU is enabled.\n"
     ]
    },
    {
     "name": "stdout",
     "output_type": "stream",
     "text": [
      "3/3 [==============================] - 4s 308ms/step - loss: 0.0677\n",
      "Epoch 2/120\n",
      "3/3 [==============================] - 0s 9ms/step - loss: 0.0441\n",
      "Epoch 3/120\n",
      "3/3 [==============================] - 0s 9ms/step - loss: 0.0287\n",
      "Epoch 4/120\n",
      "3/3 [==============================] - 0s 8ms/step - loss: 0.0203\n",
      "Epoch 5/120\n",
      "3/3 [==============================] - 0s 9ms/step - loss: 0.0172\n",
      "Epoch 6/120\n",
      "3/3 [==============================] - 0s 9ms/step - loss: 0.0171\n",
      "Epoch 7/120\n",
      "3/3 [==============================] - 0s 9ms/step - loss: 0.0177\n",
      "Epoch 8/120\n",
      "3/3 [==============================] - 0s 8ms/step - loss: 0.0163\n",
      "Epoch 9/120\n",
      "3/3 [==============================] - 0s 8ms/step - loss: 0.0138\n",
      "Epoch 10/120\n",
      "3/3 [==============================] - 0s 8ms/step - loss: 0.0113\n",
      "Epoch 11/120\n",
      "3/3 [==============================] - 0s 8ms/step - loss: 0.0095\n",
      "Epoch 12/120\n",
      "3/3 [==============================] - 0s 8ms/step - loss: 0.0082\n",
      "Epoch 13/120\n",
      "3/3 [==============================] - 0s 8ms/step - loss: 0.0069\n",
      "Epoch 14/120\n",
      "3/3 [==============================] - 0s 8ms/step - loss: 0.0056\n",
      "Epoch 15/120\n",
      "3/3 [==============================] - 0s 8ms/step - loss: 0.0043\n",
      "Epoch 16/120\n",
      "3/3 [==============================] - 0s 8ms/step - loss: 0.0032\n",
      "Epoch 17/120\n",
      "3/3 [==============================] - 0s 8ms/step - loss: 0.0026\n",
      "Epoch 18/120\n",
      "3/3 [==============================] - 0s 8ms/step - loss: 0.0021\n",
      "Epoch 19/120\n",
      "3/3 [==============================] - 0s 8ms/step - loss: 0.0017\n",
      "Epoch 20/120\n",
      "3/3 [==============================] - 0s 8ms/step - loss: 0.0014\n",
      "Epoch 21/120\n",
      "3/3 [==============================] - 0s 8ms/step - loss: 0.0013\n",
      "Epoch 22/120\n",
      "3/3 [==============================] - 0s 8ms/step - loss: 0.0013\n",
      "Epoch 23/120\n",
      "3/3 [==============================] - 0s 8ms/step - loss: 0.0013\n",
      "Epoch 24/120\n",
      "3/3 [==============================] - 0s 8ms/step - loss: 0.0013\n",
      "Epoch 25/120\n",
      "3/3 [==============================] - 0s 8ms/step - loss: 0.0013\n",
      "Epoch 26/120\n",
      "3/3 [==============================] - 0s 8ms/step - loss: 0.0013\n",
      "Epoch 27/120\n",
      "3/3 [==============================] - 0s 8ms/step - loss: 0.0013\n",
      "Epoch 28/120\n",
      "3/3 [==============================] - 0s 8ms/step - loss: 0.0012\n",
      "Epoch 29/120\n",
      "3/3 [==============================] - 0s 8ms/step - loss: 0.0012\n",
      "Epoch 30/120\n",
      "3/3 [==============================] - 0s 7ms/step - loss: 0.0012\n",
      "Epoch 31/120\n",
      "3/3 [==============================] - 0s 8ms/step - loss: 0.0012\n",
      "Epoch 32/120\n",
      "3/3 [==============================] - 0s 8ms/step - loss: 0.0012\n",
      "Epoch 33/120\n",
      "3/3 [==============================] - 0s 8ms/step - loss: 0.0011\n",
      "Epoch 34/120\n",
      "3/3 [==============================] - 0s 8ms/step - loss: 0.0011\n",
      "Epoch 35/120\n",
      "3/3 [==============================] - 0s 8ms/step - loss: 0.0011\n",
      "Epoch 36/120\n",
      "3/3 [==============================] - 0s 8ms/step - loss: 0.0011\n",
      "Epoch 37/120\n",
      "3/3 [==============================] - 0s 8ms/step - loss: 0.0011\n",
      "Epoch 38/120\n",
      "3/3 [==============================] - 0s 8ms/step - loss: 0.0011\n",
      "Epoch 39/120\n",
      "3/3 [==============================] - 0s 8ms/step - loss: 0.0011\n",
      "Epoch 40/120\n",
      "3/3 [==============================] - 0s 8ms/step - loss: 0.0011\n",
      "Epoch 41/120\n",
      "3/3 [==============================] - 0s 8ms/step - loss: 0.0011\n",
      "Epoch 42/120\n",
      "3/3 [==============================] - 0s 8ms/step - loss: 0.0011\n",
      "Epoch 43/120\n",
      "3/3 [==============================] - 0s 8ms/step - loss: 0.0011\n",
      "Epoch 44/120\n",
      "3/3 [==============================] - 0s 8ms/step - loss: 0.0011\n",
      "Epoch 45/120\n",
      "3/3 [==============================] - 0s 8ms/step - loss: 0.0011\n",
      "Epoch 46/120\n",
      "3/3 [==============================] - 0s 8ms/step - loss: 0.0011\n",
      "Epoch 47/120\n",
      "3/3 [==============================] - 0s 8ms/step - loss: 0.0011\n",
      "Epoch 48/120\n",
      "3/3 [==============================] - 0s 8ms/step - loss: 0.0011\n",
      "Epoch 49/120\n",
      "3/3 [==============================] - 0s 8ms/step - loss: 0.0010\n",
      "Epoch 50/120\n",
      "3/3 [==============================] - 0s 8ms/step - loss: 0.0010\n",
      "Epoch 51/120\n",
      "3/3 [==============================] - 0s 8ms/step - loss: 0.0010\n",
      "Epoch 52/120\n",
      "3/3 [==============================] - 0s 8ms/step - loss: 0.0010\n",
      "Epoch 53/120\n",
      "3/3 [==============================] - 0s 8ms/step - loss: 0.0010\n",
      "Epoch 54/120\n",
      "3/3 [==============================] - 0s 8ms/step - loss: 0.0010\n",
      "Epoch 55/120\n",
      "3/3 [==============================] - 0s 8ms/step - loss: 0.0010\n",
      "Epoch 56/120\n",
      "3/3 [==============================] - 0s 8ms/step - loss: 0.0010\n",
      "Epoch 57/120\n",
      "3/3 [==============================] - 0s 8ms/step - loss: 9.9485e-04\n",
      "Epoch 58/120\n",
      "3/3 [==============================] - 0s 8ms/step - loss: 9.9034e-04\n",
      "Epoch 59/120\n",
      "3/3 [==============================] - 0s 8ms/step - loss: 9.8083e-04\n",
      "Epoch 60/120\n",
      "3/3 [==============================] - 0s 8ms/step - loss: 9.7538e-04\n",
      "Epoch 61/120\n",
      "3/3 [==============================] - 0s 8ms/step - loss: 9.6656e-04\n",
      "Epoch 62/120\n",
      "3/3 [==============================] - 0s 8ms/step - loss: 9.6098e-04\n",
      "Epoch 63/120\n",
      "3/3 [==============================] - 0s 8ms/step - loss: 9.5275e-04\n",
      "Epoch 64/120\n",
      "3/3 [==============================] - 0s 8ms/step - loss: 9.4742e-04\n",
      "Epoch 65/120\n",
      "3/3 [==============================] - 0s 8ms/step - loss: 9.4020e-04\n",
      "Epoch 66/120\n",
      "3/3 [==============================] - 0s 8ms/step - loss: 9.3204e-04\n",
      "Epoch 67/120\n",
      "3/3 [==============================] - 0s 8ms/step - loss: 9.3661e-04\n",
      "Epoch 68/120\n",
      "3/3 [==============================] - 0s 8ms/step - loss: 9.2115e-04\n",
      "Epoch 69/120\n",
      "3/3 [==============================] - 0s 8ms/step - loss: 9.1678e-04\n",
      "Epoch 70/120\n",
      "3/3 [==============================] - 0s 10ms/step - loss: 9.1107e-04\n",
      "Epoch 71/120\n",
      "3/3 [==============================] - 0s 8ms/step - loss: 9.0024e-04\n",
      "Epoch 72/120\n",
      "3/3 [==============================] - 0s 8ms/step - loss: 8.9534e-04\n",
      "Epoch 73/120\n",
      "3/3 [==============================] - 0s 8ms/step - loss: 8.8882e-04\n",
      "Epoch 74/120\n",
      "3/3 [==============================] - 0s 8ms/step - loss: 8.8216e-04\n",
      "Epoch 75/120\n",
      "3/3 [==============================] - 0s 8ms/step - loss: 8.7295e-04\n",
      "Epoch 76/120\n",
      "3/3 [==============================] - 0s 8ms/step - loss: 8.6689e-04\n",
      "Epoch 77/120\n",
      "3/3 [==============================] - 0s 8ms/step - loss: 8.6939e-04\n",
      "Epoch 78/120\n",
      "3/3 [==============================] - 0s 8ms/step - loss: 8.5390e-04\n",
      "Epoch 79/120\n",
      "3/3 [==============================] - 0s 8ms/step - loss: 8.4609e-04\n",
      "Epoch 80/120\n",
      "3/3 [==============================] - 0s 8ms/step - loss: 8.3863e-04\n",
      "Epoch 81/120\n",
      "3/3 [==============================] - 0s 8ms/step - loss: 8.3568e-04\n",
      "Epoch 82/120\n",
      "3/3 [==============================] - 0s 8ms/step - loss: 8.3804e-04\n",
      "Epoch 83/120\n",
      "3/3 [==============================] - 0s 11ms/step - loss: 8.2032e-04\n",
      "Epoch 84/120\n",
      "3/3 [==============================] - 0s 8ms/step - loss: 8.1221e-04\n",
      "Epoch 85/120\n",
      "3/3 [==============================] - 0s 8ms/step - loss: 8.1049e-04\n",
      "Epoch 86/120\n",
      "3/3 [==============================] - 0s 8ms/step - loss: 7.9641e-04\n",
      "Epoch 87/120\n",
      "3/3 [==============================] - 0s 8ms/step - loss: 7.9141e-04\n",
      "Epoch 88/120\n",
      "3/3 [==============================] - 0s 8ms/step - loss: 7.8895e-04\n",
      "Epoch 89/120\n",
      "3/3 [==============================] - 0s 8ms/step - loss: 7.8283e-04\n",
      "Epoch 90/120\n",
      "3/3 [==============================] - 0s 8ms/step - loss: 7.7230e-04\n",
      "Epoch 91/120\n",
      "3/3 [==============================] - 0s 8ms/step - loss: 7.6298e-04\n",
      "Epoch 92/120\n",
      "3/3 [==============================] - 0s 8ms/step - loss: 7.6025e-04\n",
      "Epoch 93/120\n",
      "3/3 [==============================] - 0s 8ms/step - loss: 7.5603e-04\n",
      "Epoch 94/120\n",
      "3/3 [==============================] - 0s 8ms/step - loss: 7.5056e-04\n",
      "Epoch 95/120\n",
      "3/3 [==============================] - 0s 8ms/step - loss: 7.3724e-04\n",
      "Epoch 96/120\n",
      "3/3 [==============================] - 0s 8ms/step - loss: 7.3650e-04\n",
      "Epoch 97/120\n",
      "3/3 [==============================] - 0s 8ms/step - loss: 7.3162e-04\n",
      "Epoch 98/120\n",
      "3/3 [==============================] - 0s 8ms/step - loss: 7.1611e-04\n",
      "Epoch 99/120\n",
      "3/3 [==============================] - 0s 8ms/step - loss: 7.1609e-04\n",
      "Epoch 100/120\n",
      "3/3 [==============================] - 0s 8ms/step - loss: 7.0309e-04\n",
      "Epoch 101/120\n",
      "3/3 [==============================] - 0s 8ms/step - loss: 6.9510e-04\n",
      "Epoch 102/120\n",
      "3/3 [==============================] - 0s 8ms/step - loss: 6.9301e-04\n",
      "Epoch 103/120\n",
      "3/3 [==============================] - 0s 8ms/step - loss: 6.8153e-04\n",
      "Epoch 104/120\n",
      "3/3 [==============================] - 0s 8ms/step - loss: 6.7512e-04\n",
      "Epoch 105/120\n",
      "3/3 [==============================] - 0s 9ms/step - loss: 6.7214e-04\n",
      "Epoch 106/120\n",
      "3/3 [==============================] - 0s 8ms/step - loss: 6.6367e-04\n",
      "Epoch 107/120\n",
      "3/3 [==============================] - 0s 8ms/step - loss: 6.5850e-04\n",
      "Epoch 108/120\n",
      "3/3 [==============================] - 0s 8ms/step - loss: 6.5139e-04\n",
      "Epoch 109/120\n",
      "3/3 [==============================] - 0s 8ms/step - loss: 6.5745e-04\n",
      "Epoch 110/120\n",
      "3/3 [==============================] - 0s 8ms/step - loss: 6.4028e-04\n",
      "Epoch 111/120\n",
      "3/3 [==============================] - 0s 8ms/step - loss: 6.2707e-04\n",
      "Epoch 112/120\n",
      "3/3 [==============================] - 0s 8ms/step - loss: 6.4146e-04\n",
      "Epoch 113/120\n",
      "3/3 [==============================] - 0s 8ms/step - loss: 6.2141e-04\n",
      "Epoch 114/120\n",
      "3/3 [==============================] - 0s 8ms/step - loss: 6.2972e-04\n",
      "Epoch 115/120\n",
      "3/3 [==============================] - 0s 8ms/step - loss: 6.1607e-04\n",
      "Epoch 116/120\n",
      "3/3 [==============================] - 0s 8ms/step - loss: 5.9233e-04\n",
      "Epoch 117/120\n",
      "3/3 [==============================] - 0s 8ms/step - loss: 5.9652e-04\n",
      "Epoch 118/120\n",
      "3/3 [==============================] - 0s 8ms/step - loss: 5.8402e-04\n",
      "Epoch 119/120\n",
      "3/3 [==============================] - 0s 8ms/step - loss: 5.7414e-04\n",
      "Epoch 120/120\n",
      "3/3 [==============================] - 0s 8ms/step - loss: 5.7119e-04\n"
     ]
    },
    {
     "data": {
      "text/plain": "<keras.src.callbacks.History at 0x2a42136d0>"
     },
     "execution_count": 8,
     "metadata": {},
     "output_type": "execute_result"
    }
   ],
   "source": [
    "hobomodel.fit(trainx, trainy, epochs=120)"
   ],
   "metadata": {
    "collapsed": false,
    "ExecuteTime": {
     "end_time": "2023-12-16T01:40:02.080533Z",
     "start_time": "2023-12-16T01:39:55.504258Z"
    }
   },
   "id": "78b351e5bd7ad5bf"
  },
  {
   "cell_type": "code",
   "execution_count": 9,
   "outputs": [
    {
     "name": "stdout",
     "output_type": "stream",
     "text": [
      "3/3 [==============================] - 1s 48ms/step\n",
      "the mean squared error for the train data is  0.0005628193660717966\n"
     ]
    }
   ],
   "source": [
    "trainpred = hobomodel.predict(trainx)\n",
    "print(\"the mean squared error for the train data is \", mean_squared_error(trainy, trainpred))"
   ],
   "metadata": {
    "collapsed": false,
    "ExecuteTime": {
     "end_time": "2023-12-16T01:40:02.808683Z",
     "start_time": "2023-12-16T01:40:02.080371Z"
    }
   },
   "id": "601b07d43d01ba7"
  },
  {
   "cell_type": "code",
   "execution_count": 10,
   "outputs": [
    {
     "name": "stdout",
     "output_type": "stream",
     "text": [
      "1/1 [==============================] - 0s 134ms/step\n",
      "the mean squared error for the test data is  0.00043490497598578504\n"
     ]
    }
   ],
   "source": [
    "ypred = hobomodel.predict(testx)\n",
    "print(\"the mean squared error for the test data is \", mean_squared_error(testy, ypred))"
   ],
   "metadata": {
    "collapsed": false,
    "ExecuteTime": {
     "end_time": "2023-12-16T01:40:02.962835Z",
     "start_time": "2023-12-16T01:40:02.809049Z"
    }
   },
   "id": "809b8cced02c67be"
  },
  {
   "cell_type": "code",
   "execution_count": 11,
   "outputs": [
    {
     "name": "stdout",
     "output_type": "stream",
     "text": [
      "the r2 score for the test data is  0.8654697837172434\n"
     ]
    }
   ],
   "source": [
    "print(\"the r2 score for the test data is \", r2_score(testy, ypred))"
   ],
   "metadata": {
    "collapsed": false,
    "ExecuteTime": {
     "end_time": "2023-12-16T01:40:02.965863Z",
     "start_time": "2023-12-16T01:40:02.961703Z"
    }
   },
   "id": "a5bcf1db0b823419"
  },
  {
   "cell_type": "code",
   "execution_count": 12,
   "outputs": [
    {
     "data": {
      "text/plain": "array([[0.83581495],\n       [0.8539119 ],\n       [0.875262  ],\n       [0.9006706 ],\n       [0.9173685 ],\n       [0.9281085 ],\n       [0.94446653],\n       [0.9673533 ],\n       [0.9839941 ],\n       [0.98706955],\n       [0.98637444]], dtype=float32)"
     },
     "execution_count": 12,
     "metadata": {},
     "output_type": "execute_result"
    }
   ],
   "source": [
    "ypred"
   ],
   "metadata": {
    "collapsed": false,
    "ExecuteTime": {
     "end_time": "2023-12-16T01:40:02.966738Z",
     "start_time": "2023-12-16T01:40:02.964052Z"
    }
   },
   "id": "d4095ea3b685ef3"
  },
  {
   "cell_type": "code",
   "execution_count": 13,
   "outputs": [
    {
     "data": {
      "text/plain": "array([0.80479072, 0.82890156, 0.86209326, 0.87296717, 0.89063942,\n       0.9123098 , 0.94693842, 0.96030351, 0.96164784, 0.96090185,\n       0.9792271 ])"
     },
     "execution_count": 13,
     "metadata": {},
     "output_type": "execute_result"
    }
   ],
   "source": [
    "testy"
   ],
   "metadata": {
    "collapsed": false,
    "ExecuteTime": {
     "end_time": "2023-12-16T01:40:02.973139Z",
     "start_time": "2023-12-16T01:40:02.966245Z"
    }
   },
   "id": "9fb537c0b265fdcf"
  },
  {
   "cell_type": "markdown",
   "source": [
    "# Plotting the predicted graph "
   ],
   "metadata": {
    "collapsed": false
   },
   "id": "afdb027c630c879d"
  },
  {
   "cell_type": "code",
   "execution_count": 14,
   "outputs": [
    {
     "data": {
      "text/plain": "<Figure size 400x300 with 1 Axes>",
      "image/png": "[encoded data removed]"
     },
     "metadata": {},
     "output_type": "display_data"
    }
   ],
   "source": [
    "plt.figure(figsize=(4,3))\n",
    "plt.title(\"hoboken LTSM\")\n",
    "plt.xlabel('Date')\n",
    "plt.ylabel('Median House Value')\n",
    "plt.xticks(rotation='vertical')\n",
    "plt.plot(train.Date, train.Value, c='blue', label='Train')\n",
    "plt.plot(test.Date[lookback + 1:], ypred, c='red', label='predicted values')\n",
    "plt.plot(test.Date[lookback + 1:], testy, c='green', label='Test data')\n",
    "plt.legend()\n",
    "plt.show()"
   ],
   "metadata": {
    "collapsed": false,
    "ExecuteTime": {
     "end_time": "2023-12-16T01:40:03.058568Z",
     "start_time": "2023-12-16T01:40:02.970617Z"
    }
   },
   "id": "316d93b71edd7076"
  },
  {
   "cell_type": "markdown",
   "source": [
    "# new york dataset"
   ],
   "metadata": {
    "collapsed": false
   },
   "id": "125db652100115f3"
  },
  {
   "cell_type": "code",
   "execution_count": 15,
   "outputs": [],
   "source": [
    "link = './dataset/new york.csv'\n",
    "newyorkScaler = MinMaxScaler()\n",
    "new_york = pd.read_csv(link)\n",
    "new_york.drop(columns='index', axis=1, inplace=True)\n",
    "new_york[['Value']] = newyorkScaler.fit_transform(new_york[['Value']])"
   ],
   "metadata": {
    "collapsed": false,
    "ExecuteTime": {
     "end_time": "2023-12-16T01:40:03.062836Z",
     "start_time": "2023-12-16T01:40:03.058244Z"
    }
   },
   "id": "59b5a8fe8770e683"
  },
  {
   "cell_type": "code",
   "execution_count": 16,
   "outputs": [],
   "source": [
    "lookback=2\n",
    "trainx, trainy = create_splits(train, lookback=lookback)\n",
    "testx, testy = create_splits(test, lookback=lookback)\n",
    "trainx = np.reshape(trainx, (trainx.shape[0], 1, trainx.shape[1]))\n",
    "testx = np.reshape(testx, (testx.shape[0], 1, testx.shape[1]))"
   ],
   "metadata": {
    "collapsed": false,
    "ExecuteTime": {
     "end_time": "2023-12-16T01:40:03.067689Z",
     "start_time": "2023-12-16T01:40:03.065496Z"
    }
   },
   "id": "6c86988400895a4d"
  },
  {
   "cell_type": "code",
   "execution_count": 17,
   "outputs": [
    {
     "data": {
      "text/plain": "           Date     Value\n0    2015-01-31  0.056079\n1    2015-02-28  0.075107\n2    2015-03-31  0.089488\n3    2015-04-30  0.105672\n4    2015-05-31  0.113027\n..          ...       ...\n100  2023-05-31  1.000000\n101  2023-06-30  0.997609\n102  2023-07-31  0.990277\n103  2023-08-31  0.981763\n104  2023-09-30  0.978996\n\n[105 rows x 2 columns]",
      "text/html": "<div>\n<style scoped>\n    .dataframe tbody tr th:only-of-type {\n        vertical-align: middle;\n    }\n\n    .dataframe tbody tr th {\n        vertical-align: top;\n    }\n\n    .dataframe thead th {\n        text-align: right;\n    }\n</style>\n<table border=\"1\" class=\"dataframe\">\n  <thead>\n    <tr style=\"text-align: right;\">\n      <th></th>\n      <th>Date</th>\n      <th>Value</th>\n    </tr>\n  </thead>\n  <tbody>\n    <tr>\n      <th>0</th>\n      <td>2015-01-31</td>\n      <td>0.056079</td>\n    </tr>\n    <tr>\n      <th>1</th>\n      <td>2015-02-28</td>\n      <td>0.075107</td>\n    </tr>\n    <tr>\n      <th>2</th>\n      <td>2015-03-31</td>\n      <td>0.089488</td>\n    </tr>\n    <tr>\n      <th>3</th>\n      <td>2015-04-30</td>\n      <td>0.105672</td>\n    </tr>\n    <tr>\n      <th>4</th>\n      <td>2015-05-31</td>\n      <td>0.113027</td>\n    </tr>\n    <tr>\n      <th>...</th>\n      <td>...</td>\n      <td>...</td>\n    </tr>\n    <tr>\n      <th>100</th>\n      <td>2023-05-31</td>\n      <td>1.000000</td>\n    </tr>\n    <tr>\n      <th>101</th>\n      <td>2023-06-30</td>\n      <td>0.997609</td>\n    </tr>\n    <tr>\n      <th>102</th>\n      <td>2023-07-31</td>\n      <td>0.990277</td>\n    </tr>\n    <tr>\n      <th>103</th>\n      <td>2023-08-31</td>\n      <td>0.981763</td>\n    </tr>\n    <tr>\n      <th>104</th>\n      <td>2023-09-30</td>\n      <td>0.978996</td>\n    </tr>\n  </tbody>\n</table>\n<p>105 rows × 2 columns</p>\n</div>"
     },
     "execution_count": 17,
     "metadata": {},
     "output_type": "execute_result"
    }
   ],
   "source": [
    "new_york"
   ],
   "metadata": {
    "collapsed": false,
    "ExecuteTime": {
     "end_time": "2023-12-16T01:40:03.072552Z",
     "start_time": "2023-12-16T01:40:03.069637Z"
    }
   },
   "id": "8a3f1835df822130"
  },
  {
   "cell_type": "code",
   "execution_count": 35,
   "outputs": [
    {
     "name": "stdout",
     "output_type": "stream",
     "text": [
      "Model: \"sequential_3\"\n",
      "_________________________________________________________________\n",
      " Layer (type)                Output Shape              Param #   \n",
      "=================================================================\n",
      " lstm_3 (LSTM)               (None, 7)                 280       \n",
      "                                                                 \n",
      " dense_3 (Dense)             (None, 1)                 8         \n",
      "                                                                 \n",
      "=================================================================\n",
      "Total params: 288 (1.12 KB)\n",
      "Trainable params: 288 (1.12 KB)\n",
      "Non-trainable params: 0 (0.00 Byte)\n",
      "_________________________________________________________________\n"
     ]
    }
   ],
   "source": [
    "modelny = Sequential()\n",
    "modelny.add(LSTM(7, input_shape = (1, lookback)))\n",
    "modelny.add(Dense(1))\n",
    "opt = Adam(learning_rate = 0.01)\n",
    "modelny.compile(loss='mean_squared_error', optimizer=opt)\n",
    "modelny.summary()"
   ],
   "metadata": {
    "collapsed": false,
    "ExecuteTime": {
     "end_time": "2023-12-16T02:49:24.769597Z",
     "start_time": "2023-12-16T02:49:24.556921Z"
    }
   },
   "id": "28c451a836960eb2"
  },
  {
   "cell_type": "code",
   "execution_count": 36,
   "outputs": [
    {
     "name": "stdout",
     "output_type": "stream",
     "text": [
      "Epoch 1/120\n",
      "90/90 [==============================] - 3s 6ms/step - loss: 0.0271\n",
      "Epoch 2/120\n",
      "90/90 [==============================] - 1s 6ms/step - loss: 4.4731e-04\n",
      "Epoch 3/120\n",
      "90/90 [==============================] - 1s 6ms/step - loss: 1.3985e-04\n",
      "Epoch 4/120\n",
      "90/90 [==============================] - 1s 6ms/step - loss: 1.7763e-04\n",
      "Epoch 5/120\n",
      "90/90 [==============================] - 1s 6ms/step - loss: 2.4698e-04\n",
      "Epoch 6/120\n",
      "90/90 [==============================] - 1s 6ms/step - loss: 1.6271e-04\n",
      "Epoch 7/120\n",
      "90/90 [==============================] - 1s 6ms/step - loss: 1.8071e-04\n",
      "Epoch 8/120\n",
      "90/90 [==============================] - 1s 6ms/step - loss: 2.3160e-04\n",
      "Epoch 9/120\n",
      "90/90 [==============================] - 1s 6ms/step - loss: 1.8792e-04\n",
      "Epoch 10/120\n",
      "90/90 [==============================] - 1s 6ms/step - loss: 2.2218e-04\n",
      "Epoch 11/120\n",
      "90/90 [==============================] - 1s 6ms/step - loss: 2.3741e-04\n",
      "Epoch 12/120\n",
      "90/90 [==============================] - 1s 6ms/step - loss: 2.7588e-04\n",
      "Epoch 13/120\n",
      "90/90 [==============================] - 1s 6ms/step - loss: 2.9467e-04\n",
      "Epoch 14/120\n",
      "90/90 [==============================] - 1s 6ms/step - loss: 3.0970e-04\n",
      "Epoch 15/120\n",
      "90/90 [==============================] - 1s 6ms/step - loss: 2.5674e-04\n",
      "Epoch 16/120\n",
      "90/90 [==============================] - 1s 6ms/step - loss: 3.2364e-04\n",
      "Epoch 17/120\n",
      "90/90 [==============================] - 1s 6ms/step - loss: 4.5194e-04\n",
      "Epoch 18/120\n",
      "90/90 [==============================] - 0s 6ms/step - loss: 2.3687e-04\n",
      "Epoch 19/120\n",
      "90/90 [==============================] - 1s 6ms/step - loss: 1.8734e-04\n",
      "Epoch 20/120\n",
      "90/90 [==============================] - 1s 6ms/step - loss: 3.5497e-04\n",
      "Epoch 21/120\n",
      "90/90 [==============================] - 1s 6ms/step - loss: 2.5329e-04\n",
      "Epoch 22/120\n",
      "90/90 [==============================] - 1s 6ms/step - loss: 5.1854e-04\n",
      "Epoch 23/120\n",
      "90/90 [==============================] - 1s 6ms/step - loss: 2.8404e-04\n",
      "Epoch 24/120\n",
      "90/90 [==============================] - 1s 6ms/step - loss: 2.2201e-04\n",
      "Epoch 25/120\n",
      "90/90 [==============================] - 1s 6ms/step - loss: 2.3866e-04\n",
      "Epoch 26/120\n",
      "90/90 [==============================] - 1s 6ms/step - loss: 2.6734e-04\n",
      "Epoch 27/120\n",
      "90/90 [==============================] - 1s 6ms/step - loss: 2.9917e-04\n",
      "Epoch 28/120\n",
      "90/90 [==============================] - 1s 6ms/step - loss: 1.7880e-04\n",
      "Epoch 29/120\n",
      "90/90 [==============================] - 1s 6ms/step - loss: 3.0799e-04\n",
      "Epoch 30/120\n",
      "90/90 [==============================] - 1s 6ms/step - loss: 2.0100e-04\n",
      "Epoch 31/120\n",
      "90/90 [==============================] - 1s 6ms/step - loss: 0.0011\n",
      "Epoch 32/120\n",
      "90/90 [==============================] - 1s 6ms/step - loss: 3.9289e-04\n",
      "Epoch 33/120\n",
      "90/90 [==============================] - 1s 6ms/step - loss: 3.8486e-04\n",
      "Epoch 34/120\n",
      "90/90 [==============================] - 1s 6ms/step - loss: 4.2892e-04\n",
      "Epoch 35/120\n",
      "90/90 [==============================] - 1s 6ms/step - loss: 2.8153e-04\n",
      "Epoch 36/120\n",
      "90/90 [==============================] - 1s 6ms/step - loss: 2.1528e-04\n",
      "Epoch 37/120\n",
      "90/90 [==============================] - 1s 6ms/step - loss: 2.7680e-04\n",
      "Epoch 38/120\n",
      "90/90 [==============================] - 1s 6ms/step - loss: 2.8965e-04\n",
      "Epoch 39/120\n",
      "90/90 [==============================] - 1s 6ms/step - loss: 5.8726e-04\n",
      "Epoch 40/120\n",
      "90/90 [==============================] - 1s 6ms/step - loss: 2.8183e-04\n",
      "Epoch 41/120\n",
      "90/90 [==============================] - 1s 6ms/step - loss: 1.7400e-04\n",
      "Epoch 42/120\n",
      "90/90 [==============================] - 1s 6ms/step - loss: 2.9359e-04\n",
      "Epoch 43/120\n",
      "90/90 [==============================] - 1s 6ms/step - loss: 2.3223e-04\n",
      "Epoch 44/120\n",
      "90/90 [==============================] - 1s 6ms/step - loss: 3.4349e-04\n",
      "Epoch 45/120\n",
      "90/90 [==============================] - 1s 6ms/step - loss: 2.3582e-04\n",
      "Epoch 46/120\n",
      "90/90 [==============================] - 1s 6ms/step - loss: 4.1142e-04\n",
      "Epoch 47/120\n",
      "90/90 [==============================] - 1s 6ms/step - loss: 3.1276e-04\n",
      "Epoch 48/120\n",
      "90/90 [==============================] - 1s 7ms/step - loss: 2.8957e-04\n",
      "Epoch 49/120\n",
      "90/90 [==============================] - 1s 6ms/step - loss: 3.0772e-04\n",
      "Epoch 50/120\n",
      "90/90 [==============================] - 1s 6ms/step - loss: 7.8362e-04\n",
      "Epoch 51/120\n",
      "90/90 [==============================] - 1s 6ms/step - loss: 2.5326e-04\n",
      "Epoch 52/120\n",
      "90/90 [==============================] - 1s 6ms/step - loss: 2.6591e-04\n",
      "Epoch 53/120\n",
      "90/90 [==============================] - 1s 6ms/step - loss: 3.0323e-04\n",
      "Epoch 54/120\n",
      "90/90 [==============================] - 1s 6ms/step - loss: 3.4373e-04\n",
      "Epoch 55/120\n",
      "90/90 [==============================] - 1s 6ms/step - loss: 3.1185e-04\n",
      "Epoch 56/120\n",
      "90/90 [==============================] - 1s 6ms/step - loss: 4.1628e-04\n",
      "Epoch 57/120\n",
      "90/90 [==============================] - 1s 8ms/step - loss: 2.7267e-04\n",
      "Epoch 58/120\n",
      "90/90 [==============================] - 1s 7ms/step - loss: 2.9573e-04\n",
      "Epoch 59/120\n",
      "90/90 [==============================] - 1s 6ms/step - loss: 1.9021e-04\n",
      "Epoch 60/120\n",
      "90/90 [==============================] - 1s 6ms/step - loss: 1.8740e-04\n",
      "Epoch 61/120\n",
      "90/90 [==============================] - 1s 6ms/step - loss: 2.1824e-04\n",
      "Epoch 62/120\n",
      "90/90 [==============================] - 1s 6ms/step - loss: 4.2693e-04\n",
      "Epoch 63/120\n",
      "90/90 [==============================] - 1s 7ms/step - loss: 3.7645e-04\n",
      "Epoch 64/120\n",
      "90/90 [==============================] - 1s 7ms/step - loss: 3.5135e-04\n",
      "Epoch 65/120\n",
      "90/90 [==============================] - 1s 6ms/step - loss: 4.9652e-04\n",
      "Epoch 66/120\n",
      "90/90 [==============================] - 1s 6ms/step - loss: 2.9512e-04\n",
      "Epoch 67/120\n",
      "90/90 [==============================] - 1s 7ms/step - loss: 3.8154e-04\n",
      "Epoch 68/120\n",
      "90/90 [==============================] - 1s 6ms/step - loss: 2.0995e-04\n",
      "Epoch 69/120\n",
      "90/90 [==============================] - 1s 6ms/step - loss: 2.3163e-04\n",
      "Epoch 70/120\n",
      "90/90 [==============================] - 1s 6ms/step - loss: 4.7875e-04\n",
      "Epoch 71/120\n",
      "90/90 [==============================] - 1s 6ms/step - loss: 1.9287e-04\n",
      "Epoch 72/120\n",
      "90/90 [==============================] - 1s 6ms/step - loss: 3.2459e-04\n",
      "Epoch 73/120\n",
      "90/90 [==============================] - 1s 6ms/step - loss: 3.0135e-04\n",
      "Epoch 74/120\n",
      "90/90 [==============================] - 1s 6ms/step - loss: 2.7265e-04\n",
      "Epoch 75/120\n",
      "90/90 [==============================] - 1s 6ms/step - loss: 3.3346e-04\n",
      "Epoch 76/120\n",
      "90/90 [==============================] - 1s 6ms/step - loss: 4.1099e-04\n",
      "Epoch 77/120\n",
      "90/90 [==============================] - 1s 6ms/step - loss: 2.7548e-04\n",
      "Epoch 78/120\n",
      "90/90 [==============================] - 1s 6ms/step - loss: 3.4498e-04\n",
      "Epoch 79/120\n",
      "90/90 [==============================] - 1s 6ms/step - loss: 4.8171e-04\n",
      "Epoch 80/120\n",
      "90/90 [==============================] - 1s 6ms/step - loss: 1.9921e-04\n",
      "Epoch 81/120\n",
      "90/90 [==============================] - 1s 6ms/step - loss: 2.8402e-04\n",
      "Epoch 82/120\n",
      "90/90 [==============================] - 1s 7ms/step - loss: 5.0540e-04\n",
      "Epoch 83/120\n",
      "90/90 [==============================] - 1s 6ms/step - loss: 2.1256e-04\n",
      "Epoch 84/120\n",
      "90/90 [==============================] - 1s 6ms/step - loss: 4.4548e-04\n",
      "Epoch 85/120\n",
      "90/90 [==============================] - 1s 7ms/step - loss: 3.9488e-04\n",
      "Epoch 86/120\n",
      "90/90 [==============================] - 1s 7ms/step - loss: 3.6598e-04\n",
      "Epoch 87/120\n",
      "90/90 [==============================] - 1s 6ms/step - loss: 4.8446e-04\n",
      "Epoch 88/120\n",
      "90/90 [==============================] - 1s 6ms/step - loss: 2.6009e-04\n",
      "Epoch 89/120\n",
      "90/90 [==============================] - 1s 6ms/step - loss: 2.8853e-04\n",
      "Epoch 90/120\n",
      "90/90 [==============================] - 1s 6ms/step - loss: 1.9685e-04\n",
      "Epoch 91/120\n",
      "90/90 [==============================] - 1s 6ms/step - loss: 2.6584e-04\n",
      "Epoch 92/120\n",
      "90/90 [==============================] - 1s 6ms/step - loss: 2.6825e-04\n",
      "Epoch 93/120\n",
      "90/90 [==============================] - 1s 6ms/step - loss: 2.0064e-04\n",
      "Epoch 94/120\n",
      "90/90 [==============================] - 1s 6ms/step - loss: 5.5839e-04\n",
      "Epoch 95/120\n",
      "90/90 [==============================] - 1s 6ms/step - loss: 3.6820e-04\n",
      "Epoch 96/120\n",
      "90/90 [==============================] - 1s 6ms/step - loss: 2.5451e-04\n",
      "Epoch 97/120\n",
      "90/90 [==============================] - 1s 6ms/step - loss: 3.6287e-04\n",
      "Epoch 98/120\n",
      "90/90 [==============================] - 1s 6ms/step - loss: 2.5786e-04\n",
      "Epoch 99/120\n",
      "90/90 [==============================] - 1s 6ms/step - loss: 3.4537e-04\n",
      "Epoch 100/120\n",
      "90/90 [==============================] - 1s 6ms/step - loss: 3.3752e-04\n",
      "Epoch 101/120\n",
      "90/90 [==============================] - 1s 6ms/step - loss: 2.4862e-04\n",
      "Epoch 102/120\n",
      "90/90 [==============================] - 1s 6ms/step - loss: 6.9562e-04\n",
      "Epoch 103/120\n",
      "90/90 [==============================] - 1s 7ms/step - loss: 3.2035e-04\n",
      "Epoch 104/120\n",
      "90/90 [==============================] - 1s 6ms/step - loss: 2.4716e-04\n",
      "Epoch 105/120\n",
      "90/90 [==============================] - 1s 7ms/step - loss: 2.2151e-04\n",
      "Epoch 106/120\n",
      "90/90 [==============================] - 1s 7ms/step - loss: 1.9278e-04\n",
      "Epoch 107/120\n",
      "90/90 [==============================] - 1s 6ms/step - loss: 2.9440e-04\n",
      "Epoch 108/120\n",
      "90/90 [==============================] - 1s 6ms/step - loss: 5.3230e-04\n",
      "Epoch 109/120\n",
      "90/90 [==============================] - 1s 6ms/step - loss: 3.3172e-04\n",
      "Epoch 110/120\n",
      "90/90 [==============================] - 1s 6ms/step - loss: 2.3672e-04\n",
      "Epoch 111/120\n",
      "90/90 [==============================] - 1s 6ms/step - loss: 2.7721e-04\n",
      "Epoch 112/120\n",
      "90/90 [==============================] - 1s 6ms/step - loss: 2.5953e-04\n",
      "Epoch 113/120\n",
      "90/90 [==============================] - 1s 6ms/step - loss: 3.6905e-04\n",
      "Epoch 114/120\n",
      "90/90 [==============================] - 1s 6ms/step - loss: 2.4105e-04\n",
      "Epoch 115/120\n",
      "90/90 [==============================] - 1s 6ms/step - loss: 2.3826e-04\n",
      "Epoch 116/120\n",
      "90/90 [==============================] - 1s 6ms/step - loss: 4.5893e-04\n",
      "Epoch 117/120\n",
      "90/90 [==============================] - 1s 6ms/step - loss: 1.6945e-04\n",
      "Epoch 118/120\n",
      "90/90 [==============================] - 1s 7ms/step - loss: 2.4598e-04\n",
      "Epoch 119/120\n",
      "90/90 [==============================] - 1s 6ms/step - loss: 2.9498e-04\n",
      "Epoch 120/120\n",
      "90/90 [==============================] - 1s 6ms/step - loss: 3.5651e-04\n"
     ]
    },
    {
     "data": {
      "text/plain": "<keras.src.callbacks.History at 0x2a441d950>"
     },
     "execution_count": 36,
     "metadata": {},
     "output_type": "execute_result"
    }
   ],
   "source": [
    "modelny.fit(trainx, trainy, epochs= 120, batch_size=1)"
   ],
   "metadata": {
    "collapsed": false,
    "ExecuteTime": {
     "end_time": "2023-12-16T02:50:32.823717Z",
     "start_time": "2023-12-16T02:49:25.450701Z"
    }
   },
   "id": "d3263e6a4f1ea613"
  },
  {
   "cell_type": "code",
   "execution_count": 37,
   "outputs": [
    {
     "name": "stdout",
     "output_type": "stream",
     "text": [
      "3/3 [==============================] - 1s 39ms/step\n",
      "the mean squared error for the train data is  0.00013236902677290547\n"
     ]
    }
   ],
   "source": [
    "trainpred = modelny.predict(trainx)\n",
    "print(\"the mean squared error for the train data is \", mean_squared_error(trainy, trainpred)) "
   ],
   "metadata": {
    "collapsed": false,
    "ExecuteTime": {
     "end_time": "2023-12-16T02:50:34.991394Z",
     "start_time": "2023-12-16T02:50:34.225131Z"
    }
   },
   "id": "a242e2340e6704c9"
  },
  {
   "cell_type": "code",
   "execution_count": 38,
   "outputs": [
    {
     "name": "stdout",
     "output_type": "stream",
     "text": [
      "1/1 [==============================] - 0s 155ms/step\n",
      "the mean squared error for the test data is  2.415669147192614e-05\n"
     ]
    }
   ],
   "source": [
    "ypred = modelny.predict(testx)\n",
    "print(\"the mean squared error for the test data is \", mean_squared_error(testy, ypred))"
   ],
   "metadata": {
    "collapsed": false,
    "ExecuteTime": {
     "end_time": "2023-12-16T02:50:36.255626Z",
     "start_time": "2023-12-16T02:50:36.071818Z"
    }
   },
   "id": "c456e1c9eb9e4f9b"
  },
  {
   "cell_type": "code",
   "execution_count": 39,
   "outputs": [
    {
     "name": "stdout",
     "output_type": "stream",
     "text": [
      "the r2 score for the test data is  0.9420179545751441\n"
     ]
    }
   ],
   "source": [
    "print(\"the r2 score for the test data is \", r2_score(testy, ypred))"
   ],
   "metadata": {
    "collapsed": false,
    "ExecuteTime": {
     "end_time": "2023-12-16T02:50:37.904938Z",
     "start_time": "2023-12-16T02:50:37.884463Z"
    }
   },
   "id": "5e99e22121d07c69"
  },
  {
   "cell_type": "code",
   "execution_count": 40,
   "outputs": [
    {
     "data": {
      "text/plain": "<matplotlib.legend.Legend at 0x2a9c0ad10>"
     },
     "execution_count": 40,
     "metadata": {},
     "output_type": "execute_result"
    },
    {
     "data": {
      "text/plain": "<Figure size 400x300 with 1 Axes>",
      "image/png": "[encoded data removed]"
     },
     "metadata": {},
     "output_type": "display_data"
    }
   ],
   "source": [
    "plt.figure(figsize=(4,3))\n",
    "plt.title(\"new york LTSM\")\n",
    "plt.xlabel('Date')\n",
    "plt.ylabel('Median House Value')\n",
    "plt.xticks(rotation='vertical')\n",
    "plt.plot(train.Date, train.Value, c='blue', label='train')\n",
    "plt.plot(test.Date[lookback + 1:], ypred, c='red', label='predicted')\n",
    "plt.plot(test.Date[lookback + 1:], testy, c='green', label='test')\n",
    "plt.legend()"
   ],
   "metadata": {
    "collapsed": false,
    "ExecuteTime": {
     "end_time": "2023-12-16T02:50:39.154135Z",
     "start_time": "2023-12-16T02:50:39.064659Z"
    }
   },
   "id": "63f3802f68ca6a00"
  },
  {
   "cell_type": "code",
   "execution_count": 24,
   "outputs": [
    {
     "data": {
      "text/plain": "array([[0.77619565],\n       [0.7869915 ],\n       [0.8063835 ],\n       [0.8237171 ],\n       [0.84902287],\n       [0.84818554],\n       [0.86165583],\n       [0.8761084 ],\n       [0.9000851 ],\n       [0.9006548 ],\n       [0.89755714],\n       [0.8964789 ]], dtype=float32)"
     },
     "execution_count": 24,
     "metadata": {},
     "output_type": "execute_result"
    }
   ],
   "source": [
    "ypred"
   ],
   "metadata": {
    "collapsed": false,
    "ExecuteTime": {
     "end_time": "2023-12-16T01:41:06.365696Z",
     "start_time": "2023-12-16T01:41:06.362796Z"
    }
   },
   "id": "3725fdd08a8fa7bb"
  },
  {
   "cell_type": "markdown",
   "source": [
    "# Neural netowrk for philly "
   ],
   "metadata": {
    "collapsed": false
   },
   "id": "c4bd9395a2a324b3"
  },
  {
   "cell_type": "code",
   "execution_count": 25,
   "outputs": [
    {
     "data": {
      "text/plain": "          Date     Value\n0   2015-01-31  0.000000\n1   2015-02-28  0.006385\n2   2015-03-31  0.028056\n3   2015-04-30  0.030388\n4   2015-05-31  0.044152\n..         ...       ...\n100 2023-05-31  0.985073\n101 2023-06-30  0.983537\n102 2023-07-31  0.987586\n103 2023-08-31  0.993479\n104 2023-09-30  1.000000\n\n[105 rows x 2 columns]",
      "text/html": "<div>\n<style scoped>\n    .dataframe tbody tr th:only-of-type {\n        vertical-align: middle;\n    }\n\n    .dataframe tbody tr th {\n        vertical-align: top;\n    }\n\n    .dataframe thead th {\n        text-align: right;\n    }\n</style>\n<table border=\"1\" class=\"dataframe\">\n  <thead>\n    <tr style=\"text-align: right;\">\n      <th></th>\n      <th>Date</th>\n      <th>Value</th>\n    </tr>\n  </thead>\n  <tbody>\n    <tr>\n      <th>0</th>\n      <td>2015-01-31</td>\n      <td>0.000000</td>\n    </tr>\n    <tr>\n      <th>1</th>\n      <td>2015-02-28</td>\n      <td>0.006385</td>\n    </tr>\n    <tr>\n      <th>2</th>\n      <td>2015-03-31</td>\n      <td>0.028056</td>\n    </tr>\n    <tr>\n      <th>3</th>\n      <td>2015-04-30</td>\n      <td>0.030388</td>\n    </tr>\n    <tr>\n      <th>4</th>\n      <td>2015-05-31</td>\n      <td>0.044152</td>\n    </tr>\n    <tr>\n      <th>...</th>\n      <td>...</td>\n      <td>...</td>\n    </tr>\n    <tr>\n      <th>100</th>\n      <td>2023-05-31</td>\n      <td>0.985073</td>\n    </tr>\n    <tr>\n      <th>101</th>\n      <td>2023-06-30</td>\n      <td>0.983537</td>\n    </tr>\n    <tr>\n      <th>102</th>\n      <td>2023-07-31</td>\n      <td>0.987586</td>\n    </tr>\n    <tr>\n      <th>103</th>\n      <td>2023-08-31</td>\n      <td>0.993479</td>\n    </tr>\n    <tr>\n      <th>104</th>\n      <td>2023-09-30</td>\n      <td>1.000000</td>\n    </tr>\n  </tbody>\n</table>\n<p>105 rows × 2 columns</p>\n</div>"
     },
     "execution_count": 25,
     "metadata": {},
     "output_type": "execute_result"
    }
   ],
   "source": [
    "link = './dataset/philly.csv'\n",
    "philly = pd.read_csv(link)\n",
    "phillyScaler = MinMaxScaler()\n",
    "philly.Date = pd.to_datetime(philly.Date)\n",
    "philly[['Value']] = phillyScaler.fit_transform(philly[['Value']])\n",
    "philly"
   ],
   "metadata": {
    "collapsed": false,
    "ExecuteTime": {
     "end_time": "2023-12-16T01:41:06.373366Z",
     "start_time": "2023-12-16T01:41:06.365595Z"
    }
   },
   "id": "1e46a191d6c2e140"
  },
  {
   "cell_type": "code",
   "execution_count": 26,
   "outputs": [
    {
     "data": {
      "text/plain": "         Date     Value\n0  2015-01-31  0.000000\n1  2015-02-28  0.006385\n2  2015-03-31  0.028056\n3  2015-04-30  0.030388\n4  2015-05-31  0.044152\n..        ...       ...\n88 2022-05-31  0.880378\n89 2022-06-30  0.901562\n90 2022-07-31  0.913210\n91 2022-08-31  0.919792\n92 2022-09-30  0.925290\n\n[93 rows x 2 columns]",
      "text/html": "<div>\n<style scoped>\n    .dataframe tbody tr th:only-of-type {\n        vertical-align: middle;\n    }\n\n    .dataframe tbody tr th {\n        vertical-align: top;\n    }\n\n    .dataframe thead th {\n        text-align: right;\n    }\n</style>\n<table border=\"1\" class=\"dataframe\">\n  <thead>\n    <tr style=\"text-align: right;\">\n      <th></th>\n      <th>Date</th>\n      <th>Value</th>\n    </tr>\n  </thead>\n  <tbody>\n    <tr>\n      <th>0</th>\n      <td>2015-01-31</td>\n      <td>0.000000</td>\n    </tr>\n    <tr>\n      <th>1</th>\n      <td>2015-02-28</td>\n      <td>0.006385</td>\n    </tr>\n    <tr>\n      <th>2</th>\n      <td>2015-03-31</td>\n      <td>0.028056</td>\n    </tr>\n    <tr>\n      <th>3</th>\n      <td>2015-04-30</td>\n      <td>0.030388</td>\n    </tr>\n    <tr>\n      <th>4</th>\n      <td>2015-05-31</td>\n      <td>0.044152</td>\n    </tr>\n    <tr>\n      <th>...</th>\n      <td>...</td>\n      <td>...</td>\n    </tr>\n    <tr>\n      <th>88</th>\n      <td>2022-05-31</td>\n      <td>0.880378</td>\n    </tr>\n    <tr>\n      <th>89</th>\n      <td>2022-06-30</td>\n      <td>0.901562</td>\n    </tr>\n    <tr>\n      <th>90</th>\n      <td>2022-07-31</td>\n      <td>0.913210</td>\n    </tr>\n    <tr>\n      <th>91</th>\n      <td>2022-08-31</td>\n      <td>0.919792</td>\n    </tr>\n    <tr>\n      <th>92</th>\n      <td>2022-09-30</td>\n      <td>0.925290</td>\n    </tr>\n  </tbody>\n</table>\n<p>93 rows × 2 columns</p>\n</div>"
     },
     "execution_count": 26,
     "metadata": {},
     "output_type": "execute_result"
    }
   ],
   "source": [
    "trainsize = 93\n",
    "lookback = 2\n",
    "train, test = philly[:trainsize], philly[trainsize - lookback:]\n",
    "train"
   ],
   "metadata": {
    "collapsed": false,
    "ExecuteTime": {
     "end_time": "2023-12-16T01:41:06.377784Z",
     "start_time": "2023-12-16T01:41:06.374713Z"
    }
   },
   "id": "f306a84ebd2255c0"
  },
  {
   "cell_type": "code",
   "execution_count": 27,
   "outputs": [],
   "source": [
    "lookback=2\n",
    "trainx, trainy = create_splits(train, lookback=lookback)\n",
    "testx, testy = create_splits(test, lookback=lookback)\n",
    "trainx = np.reshape(trainx, (trainx.shape[0], 1, trainx.shape[1]))\n",
    "testx = np.reshape(testx, (testx.shape[0], 1, testx.shape[1]))"
   ],
   "metadata": {
    "collapsed": false,
    "ExecuteTime": {
     "end_time": "2023-12-16T01:41:06.382172Z",
     "start_time": "2023-12-16T01:41:06.377037Z"
    }
   },
   "id": "d365870841d89f8b"
  },
  {
   "cell_type": "markdown",
   "source": [
    "# model creation"
   ],
   "metadata": {
    "collapsed": false
   },
   "id": "2a69e4b34d1d0387"
  },
  {
   "cell_type": "code",
   "execution_count": 28,
   "outputs": [
    {
     "name": "stdout",
     "output_type": "stream",
     "text": [
      "Model: \"sequential_2\"\n",
      "_________________________________________________________________\n",
      " Layer (type)                Output Shape              Param #   \n",
      "=================================================================\n",
      " lstm_2 (LSTM)               (None, 4)                 112       \n",
      "                                                                 \n",
      " dense_2 (Dense)             (None, 1)                 5         \n",
      "                                                                 \n",
      "=================================================================\n",
      "Total params: 117 (468.00 Byte)\n",
      "Trainable params: 117 (468.00 Byte)\n",
      "Non-trainable params: 0 (0.00 Byte)\n",
      "_________________________________________________________________\n"
     ]
    }
   ],
   "source": [
    "phillymodel = Sequential()\n",
    "phillymodel.add(LSTM(4, input_shape = (1, lookback)))\n",
    "phillymodel.add(Dense(1))\n",
    "opt = Adam(learning_rate = 0.01)\n",
    "phillymodel.compile(loss='mean_squared_error', optimizer=opt)\n",
    "phillymodel.summary()"
   ],
   "metadata": {
    "collapsed": false,
    "ExecuteTime": {
     "end_time": "2023-12-16T01:41:07.038251Z",
     "start_time": "2023-12-16T01:41:06.383993Z"
    }
   },
   "id": "b046dc239c455488"
  },
  {
   "cell_type": "code",
   "execution_count": 29,
   "outputs": [
    {
     "name": "stdout",
     "output_type": "stream",
     "text": [
      "Epoch 1/120\n",
      "3/3 [==============================] - 3s 264ms/step - loss: 0.1568\n",
      "Epoch 2/120\n",
      "3/3 [==============================] - 0s 10ms/step - loss: 0.1161\n",
      "Epoch 3/120\n",
      "3/3 [==============================] - 0s 9ms/step - loss: 0.0830\n",
      "Epoch 4/120\n",
      "3/3 [==============================] - 0s 9ms/step - loss: 0.0587\n",
      "Epoch 5/120\n",
      "3/3 [==============================] - 0s 9ms/step - loss: 0.0408\n",
      "Epoch 6/120\n",
      "3/3 [==============================] - 0s 9ms/step - loss: 0.0318\n",
      "Epoch 7/120\n",
      "3/3 [==============================] - 0s 8ms/step - loss: 0.0275\n",
      "Epoch 8/120\n",
      "3/3 [==============================] - 0s 8ms/step - loss: 0.0281\n",
      "Epoch 9/120\n",
      "3/3 [==============================] - 0s 8ms/step - loss: 0.0287\n",
      "Epoch 10/120\n",
      "3/3 [==============================] - 0s 8ms/step - loss: 0.0277\n",
      "Epoch 11/120\n",
      "3/3 [==============================] - 0s 8ms/step - loss: 0.0247\n",
      "Epoch 12/120\n",
      "3/3 [==============================] - 0s 8ms/step - loss: 0.0207\n",
      "Epoch 13/120\n",
      "3/3 [==============================] - 0s 8ms/step - loss: 0.0175\n",
      "Epoch 14/120\n",
      "3/3 [==============================] - 0s 8ms/step - loss: 0.0149\n",
      "Epoch 15/120\n",
      "3/3 [==============================] - 0s 8ms/step - loss: 0.0131\n",
      "Epoch 16/120\n",
      "3/3 [==============================] - 0s 8ms/step - loss: 0.0114\n",
      "Epoch 17/120\n",
      "3/3 [==============================] - 0s 8ms/step - loss: 0.0097\n",
      "Epoch 18/120\n",
      "3/3 [==============================] - 0s 8ms/step - loss: 0.0076\n",
      "Epoch 19/120\n",
      "3/3 [==============================] - 0s 8ms/step - loss: 0.0058\n",
      "Epoch 20/120\n",
      "3/3 [==============================] - 0s 8ms/step - loss: 0.0044\n",
      "Epoch 21/120\n",
      "3/3 [==============================] - 0s 8ms/step - loss: 0.0032\n",
      "Epoch 22/120\n",
      "3/3 [==============================] - 0s 8ms/step - loss: 0.0023\n",
      "Epoch 23/120\n",
      "3/3 [==============================] - 0s 8ms/step - loss: 0.0016\n",
      "Epoch 24/120\n",
      "3/3 [==============================] - 0s 8ms/step - loss: 9.5305e-04\n",
      "Epoch 25/120\n",
      "3/3 [==============================] - 0s 8ms/step - loss: 5.3979e-04\n",
      "Epoch 26/120\n",
      "3/3 [==============================] - 0s 8ms/step - loss: 3.2613e-04\n",
      "Epoch 27/120\n",
      "3/3 [==============================] - 0s 8ms/step - loss: 2.3576e-04\n",
      "Epoch 28/120\n",
      "3/3 [==============================] - 0s 8ms/step - loss: 1.9170e-04\n",
      "Epoch 29/120\n",
      "3/3 [==============================] - 0s 8ms/step - loss: 1.7778e-04\n",
      "Epoch 30/120\n",
      "3/3 [==============================] - 0s 8ms/step - loss: 2.1078e-04\n",
      "Epoch 31/120\n",
      "3/3 [==============================] - 0s 8ms/step - loss: 2.3405e-04\n",
      "Epoch 32/120\n",
      "3/3 [==============================] - 0s 8ms/step - loss: 2.3671e-04\n",
      "Epoch 33/120\n",
      "3/3 [==============================] - 0s 8ms/step - loss: 2.2669e-04\n",
      "Epoch 34/120\n",
      "3/3 [==============================] - 0s 8ms/step - loss: 2.1563e-04\n",
      "Epoch 35/120\n",
      "3/3 [==============================] - 0s 8ms/step - loss: 1.9987e-04\n",
      "Epoch 36/120\n",
      "3/3 [==============================] - 0s 8ms/step - loss: 1.8628e-04\n",
      "Epoch 37/120\n",
      "3/3 [==============================] - 0s 8ms/step - loss: 1.7203e-04\n",
      "Epoch 38/120\n",
      "3/3 [==============================] - 0s 8ms/step - loss: 1.6586e-04\n",
      "Epoch 39/120\n",
      "3/3 [==============================] - 0s 8ms/step - loss: 1.6470e-04\n",
      "Epoch 40/120\n",
      "3/3 [==============================] - 0s 8ms/step - loss: 1.6138e-04\n",
      "Epoch 41/120\n",
      "3/3 [==============================] - 0s 9ms/step - loss: 1.6092e-04\n",
      "Epoch 42/120\n",
      "3/3 [==============================] - 0s 8ms/step - loss: 1.6255e-04\n",
      "Epoch 43/120\n",
      "3/3 [==============================] - 0s 8ms/step - loss: 1.6214e-04\n",
      "Epoch 44/120\n",
      "3/3 [==============================] - 0s 8ms/step - loss: 1.6164e-04\n",
      "Epoch 45/120\n",
      "3/3 [==============================] - 0s 8ms/step - loss: 1.6110e-04\n",
      "Epoch 46/120\n",
      "3/3 [==============================] - 0s 9ms/step - loss: 1.6043e-04\n",
      "Epoch 47/120\n",
      "3/3 [==============================] - 0s 9ms/step - loss: 1.5984e-04\n",
      "Epoch 48/120\n",
      "3/3 [==============================] - 0s 10ms/step - loss: 1.5921e-04\n",
      "Epoch 49/120\n",
      "3/3 [==============================] - 0s 9ms/step - loss: 1.5846e-04\n",
      "Epoch 50/120\n",
      "3/3 [==============================] - 0s 9ms/step - loss: 1.5836e-04\n",
      "Epoch 51/120\n",
      "3/3 [==============================] - 0s 9ms/step - loss: 1.5842e-04\n",
      "Epoch 52/120\n",
      "3/3 [==============================] - 0s 10ms/step - loss: 1.5851e-04\n",
      "Epoch 53/120\n",
      "3/3 [==============================] - 0s 13ms/step - loss: 1.5746e-04\n",
      "Epoch 54/120\n",
      "3/3 [==============================] - 0s 9ms/step - loss: 1.5737e-04\n",
      "Epoch 55/120\n",
      "3/3 [==============================] - 0s 8ms/step - loss: 1.5800e-04\n",
      "Epoch 56/120\n",
      "3/3 [==============================] - 0s 9ms/step - loss: 1.5753e-04\n",
      "Epoch 57/120\n",
      "3/3 [==============================] - 0s 9ms/step - loss: 1.5672e-04\n",
      "Epoch 58/120\n",
      "3/3 [==============================] - 0s 10ms/step - loss: 1.5684e-04\n",
      "Epoch 59/120\n",
      "3/3 [==============================] - 0s 8ms/step - loss: 1.5691e-04\n",
      "Epoch 60/120\n",
      "3/3 [==============================] - 0s 8ms/step - loss: 1.5641e-04\n",
      "Epoch 61/120\n",
      "3/3 [==============================] - 0s 8ms/step - loss: 1.5614e-04\n",
      "Epoch 62/120\n",
      "3/3 [==============================] - 0s 9ms/step - loss: 1.5577e-04\n",
      "Epoch 63/120\n",
      "3/3 [==============================] - 0s 8ms/step - loss: 1.5559e-04\n",
      "Epoch 64/120\n",
      "3/3 [==============================] - 0s 9ms/step - loss: 1.5594e-04\n",
      "Epoch 65/120\n",
      "3/3 [==============================] - 0s 8ms/step - loss: 1.5553e-04\n",
      "Epoch 66/120\n",
      "3/3 [==============================] - 0s 8ms/step - loss: 1.5515e-04\n",
      "Epoch 67/120\n",
      "3/3 [==============================] - 0s 8ms/step - loss: 1.5507e-04\n",
      "Epoch 68/120\n",
      "3/3 [==============================] - 0s 8ms/step - loss: 1.5584e-04\n",
      "Epoch 69/120\n",
      "3/3 [==============================] - 0s 8ms/step - loss: 1.5532e-04\n",
      "Epoch 70/120\n",
      "3/3 [==============================] - 0s 8ms/step - loss: 1.5495e-04\n",
      "Epoch 71/120\n",
      "3/3 [==============================] - 0s 9ms/step - loss: 1.5478e-04\n",
      "Epoch 72/120\n",
      "3/3 [==============================] - 0s 8ms/step - loss: 1.5450e-04\n",
      "Epoch 73/120\n",
      "3/3 [==============================] - 0s 8ms/step - loss: 1.5483e-04\n",
      "Epoch 74/120\n",
      "3/3 [==============================] - 0s 8ms/step - loss: 1.5406e-04\n",
      "Epoch 75/120\n",
      "3/3 [==============================] - 0s 8ms/step - loss: 1.5402e-04\n",
      "Epoch 76/120\n",
      "3/3 [==============================] - 0s 8ms/step - loss: 1.5404e-04\n",
      "Epoch 77/120\n",
      "3/3 [==============================] - 0s 8ms/step - loss: 1.5401e-04\n",
      "Epoch 78/120\n",
      "3/3 [==============================] - 0s 8ms/step - loss: 1.5442e-04\n",
      "Epoch 79/120\n",
      "3/3 [==============================] - 0s 8ms/step - loss: 1.5415e-04\n",
      "Epoch 80/120\n",
      "3/3 [==============================] - 0s 8ms/step - loss: 1.5350e-04\n",
      "Epoch 81/120\n",
      "3/3 [==============================] - 0s 8ms/step - loss: 1.5339e-04\n",
      "Epoch 82/120\n",
      "3/3 [==============================] - 0s 8ms/step - loss: 1.5355e-04\n",
      "Epoch 83/120\n",
      "3/3 [==============================] - 0s 8ms/step - loss: 1.5550e-04\n",
      "Epoch 84/120\n",
      "3/3 [==============================] - 0s 8ms/step - loss: 1.5427e-04\n",
      "Epoch 85/120\n",
      "3/3 [==============================] - 0s 8ms/step - loss: 1.5394e-04\n",
      "Epoch 86/120\n",
      "3/3 [==============================] - 0s 8ms/step - loss: 1.5330e-04\n",
      "Epoch 87/120\n",
      "3/3 [==============================] - 0s 8ms/step - loss: 1.5286e-04\n",
      "Epoch 88/120\n",
      "3/3 [==============================] - 0s 8ms/step - loss: 1.5379e-04\n",
      "Epoch 89/120\n",
      "3/3 [==============================] - 0s 9ms/step - loss: 1.5316e-04\n",
      "Epoch 90/120\n",
      "3/3 [==============================] - 0s 8ms/step - loss: 1.5278e-04\n",
      "Epoch 91/120\n",
      "3/3 [==============================] - 0s 9ms/step - loss: 1.5345e-04\n",
      "Epoch 92/120\n",
      "3/3 [==============================] - 0s 8ms/step - loss: 1.5325e-04\n",
      "Epoch 93/120\n",
      "3/3 [==============================] - 0s 9ms/step - loss: 1.5324e-04\n",
      "Epoch 94/120\n",
      "3/3 [==============================] - 0s 8ms/step - loss: 1.5377e-04\n",
      "Epoch 95/120\n",
      "3/3 [==============================] - 0s 9ms/step - loss: 1.5351e-04\n",
      "Epoch 96/120\n",
      "3/3 [==============================] - 0s 9ms/step - loss: 1.5252e-04\n",
      "Epoch 97/120\n",
      "3/3 [==============================] - 0s 9ms/step - loss: 1.5329e-04\n",
      "Epoch 98/120\n",
      "3/3 [==============================] - 0s 9ms/step - loss: 1.5272e-04\n",
      "Epoch 99/120\n",
      "3/3 [==============================] - 0s 9ms/step - loss: 1.5240e-04\n",
      "Epoch 100/120\n",
      "3/3 [==============================] - 0s 8ms/step - loss: 1.5421e-04\n",
      "Epoch 101/120\n",
      "3/3 [==============================] - 0s 9ms/step - loss: 1.5250e-04\n",
      "Epoch 102/120\n",
      "3/3 [==============================] - 0s 9ms/step - loss: 1.5167e-04\n",
      "Epoch 103/120\n",
      "3/3 [==============================] - 0s 9ms/step - loss: 1.5254e-04\n",
      "Epoch 104/120\n",
      "3/3 [==============================] - 0s 8ms/step - loss: 1.5249e-04\n",
      "Epoch 105/120\n",
      "3/3 [==============================] - 0s 10ms/step - loss: 1.5183e-04\n",
      "Epoch 106/120\n",
      "3/3 [==============================] - 0s 10ms/step - loss: 1.5202e-04\n",
      "Epoch 107/120\n",
      "3/3 [==============================] - 0s 11ms/step - loss: 1.5209e-04\n",
      "Epoch 108/120\n",
      "3/3 [==============================] - 0s 9ms/step - loss: 1.5183e-04\n",
      "Epoch 109/120\n",
      "3/3 [==============================] - 0s 9ms/step - loss: 1.5190e-04\n",
      "Epoch 110/120\n",
      "3/3 [==============================] - 0s 9ms/step - loss: 1.5420e-04\n",
      "Epoch 111/120\n",
      "3/3 [==============================] - 0s 9ms/step - loss: 1.5223e-04\n",
      "Epoch 112/120\n",
      "3/3 [==============================] - 0s 8ms/step - loss: 1.5179e-04\n",
      "Epoch 113/120\n",
      "3/3 [==============================] - 0s 8ms/step - loss: 1.5288e-04\n",
      "Epoch 114/120\n",
      "3/3 [==============================] - 0s 8ms/step - loss: 1.5156e-04\n",
      "Epoch 115/120\n",
      "3/3 [==============================] - 0s 9ms/step - loss: 1.5143e-04\n",
      "Epoch 116/120\n",
      "3/3 [==============================] - 0s 8ms/step - loss: 1.5138e-04\n",
      "Epoch 117/120\n",
      "3/3 [==============================] - 0s 8ms/step - loss: 1.5285e-04\n",
      "Epoch 118/120\n",
      "3/3 [==============================] - 0s 8ms/step - loss: 1.5245e-04\n",
      "Epoch 119/120\n",
      "3/3 [==============================] - 0s 8ms/step - loss: 1.5193e-04\n",
      "Epoch 120/120\n",
      "3/3 [==============================] - 0s 8ms/step - loss: 1.5139e-04\n"
     ]
    },
    {
     "data": {
      "text/plain": "<keras.src.callbacks.History at 0x2adad9910>"
     },
     "execution_count": 29,
     "metadata": {},
     "output_type": "execute_result"
    }
   ],
   "source": [
    "phillymodel.fit(trainx, trainy, epochs=120)"
   ],
   "metadata": {
    "collapsed": false,
    "ExecuteTime": {
     "end_time": "2023-12-16T01:41:13.494038Z",
     "start_time": "2023-12-16T01:41:07.036491Z"
    }
   },
   "id": "71639106671830b5"
  },
  {
   "cell_type": "code",
   "execution_count": 30,
   "outputs": [
    {
     "name": "stdout",
     "output_type": "stream",
     "text": [
      "3/3 [==============================] - 1s 49ms/step\n",
      "The train mse is 0.00015093634410613484\n"
     ]
    }
   ],
   "source": [
    "trainpred = phillymodel.predict(trainx)\n",
    "print(\"The train mse is\", mean_squared_error(trainy, trainpred))"
   ],
   "metadata": {
    "collapsed": false,
    "ExecuteTime": {
     "end_time": "2023-12-16T01:41:14.246899Z",
     "start_time": "2023-12-16T01:41:13.491359Z"
    }
   },
   "id": "26f64b7ca8730b5c"
  },
  {
   "cell_type": "code",
   "execution_count": 31,
   "outputs": [
    {
     "name": "stdout",
     "output_type": "stream",
     "text": [
      "1/1 [==============================] - 0s 128ms/step\n",
      "the test mse is  0.00011601225224911076\n"
     ]
    }
   ],
   "source": [
    "ypred = phillymodel.predict(testx)\n",
    "print(\"the test mse is \", mean_squared_error(testy, ypred))"
   ],
   "metadata": {
    "collapsed": false,
    "ExecuteTime": {
     "end_time": "2023-12-16T01:41:14.393030Z",
     "start_time": "2023-12-16T01:41:14.247518Z"
    }
   },
   "id": "2a269c8d5b9851a4"
  },
  {
   "cell_type": "code",
   "execution_count": 32,
   "outputs": [
    {
     "name": "stdout",
     "output_type": "stream",
     "text": [
      "The r2 score for the test data is  0.7215418474187505\n"
     ]
    }
   ],
   "source": [
    "print(\"The r2 score for the test data is \",r2_score(testy, ypred))"
   ],
   "metadata": {
    "collapsed": false,
    "ExecuteTime": {
     "end_time": "2023-12-16T01:41:14.395894Z",
     "start_time": "2023-12-16T01:41:14.392289Z"
    }
   },
   "id": "c5870c6a6cc053e"
  },
  {
   "cell_type": "code",
   "execution_count": 33,
   "outputs": [
    {
     "data": {
      "text/plain": "<matplotlib.legend.Legend at 0x2b9d3d5d0>"
     },
     "execution_count": 33,
     "metadata": {},
     "output_type": "execute_result"
    },
    {
     "data": {
      "text/plain": "<Figure size 400x300 with 1 Axes>",
      "image/png": "[encoded data removed]"
     },
     "metadata": {},
     "output_type": "display_data"
    }
   ],
   "source": [
    "plt.figure(figsize=(4,3))\n",
    "plt.title(\"philly LTSM\")\n",
    "plt.xlabel('Date')\n",
    "plt.ylabel('Median House Value')\n",
    "plt.xticks(rotation='vertical')\n",
    "plt.plot(train.Date, train.Value, c='blue', label='train')\n",
    "plt.plot(test.Date.iloc[lookback + 1:], ypred, c='red', label='predicted')\n",
    "plt.plot(test.Date[lookback + 1:], testy, c='green', label='test')\n",
    "plt.legend()"
   ],
   "metadata": {
    "collapsed": false,
    "ExecuteTime": {
     "end_time": "2023-12-16T01:41:14.477164Z",
     "start_time": "2023-12-16T01:41:14.398778Z"
    }
   },
   "id": "eab6874bb4534b15"
  },
  {
   "cell_type": "code",
   "execution_count": 34,
   "outputs": [
    {
     "data": {
      "text/plain": "14"
     },
     "execution_count": 34,
     "metadata": {},
     "output_type": "execute_result"
    }
   ],
   "source": [
    "len(test)"
   ],
   "metadata": {
    "collapsed": false,
    "ExecuteTime": {
     "end_time": "2023-12-16T01:41:14.479261Z",
     "start_time": "2023-12-16T01:41:14.476931Z"
    }
   },
   "id": "7952b73a461148a1"
  },
  {
   "cell_type": "code",
   "execution_count": 34,
   "outputs": [],
   "source": [],
   "metadata": {
    "collapsed": false,
    "ExecuteTime": {
     "end_time": "2023-12-16T01:41:14.481846Z",
     "start_time": "2023-12-16T01:41:14.479535Z"
    }
   },
   "id": "88d79d9a0c0d9daf"
  }
 ],
 "metadata": {
  "kernelspec": {
   "display_name": "Python 3",
   "language": "python",
   "name": "python3"
  },
  "language_info": {
   "codemirror_mode": {
    "name": "ipython",
    "version": 2
   },
   "file_extension": ".py",
   "mimetype": "text/x-python",
   "name": "python",
   "nbconvert_exporter": "python",
   "pygments_lexer": "ipython2",
   "version": "2.7.6"
  }
 },
 "nbformat": 4,
 "nbformat_minor": 5
}
